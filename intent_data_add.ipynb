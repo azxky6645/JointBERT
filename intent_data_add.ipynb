{
 "cells": [
  {
   "cell_type": "code",
   "execution_count": 1,
   "outputs": [],
   "source": [
    "import pandas as pd\n",
    "import os"
   ],
   "metadata": {
    "collapsed": false,
    "pycharm": {
     "name": "#%%\n"
    }
   }
  },
  {
   "cell_type": "code",
   "execution_count": 32,
   "outputs": [],
   "source": [
    "train=pd.read_csv('data/atis/train/label',header=None)\n",
    "valid=pd.read_csv('data/atis/dev/label',header=None)\n",
    "test=pd.read_csv('data/atis/test/label',header=None)\n"
   ],
   "metadata": {
    "collapsed": false,
    "pycharm": {
     "name": "#%%\n"
    }
   }
  },
  {
   "cell_type": "code",
   "execution_count": 28,
   "outputs": [],
   "source": [
    "train=pd.read_csv('D:/공부/2023년 본심 준비/dataset/Few_Shot_Intent_Detection/Datasets/ATIS/train/label',header=None)\n",
    "valid=pd.read_csv('D:/공부/2023년 본심 준비/dataset/Few_Shot_Intent_Detection/Datasets/ATIS/valid/label',header=None)\n",
    "test=pd.read_csv('D:/공부/2023년 본심 준비/dataset/Few_Shot_Intent_Detection/Datasets/ATIS/test/label',header=None)\n"
   ],
   "metadata": {
    "collapsed": false,
    "pycharm": {
     "name": "#%%\n"
    }
   }
  },
  {
   "cell_type": "code",
   "execution_count": 44,
   "outputs": [
    {
     "data": {
      "text/plain": "atis_flight                                 3309\natis_airfare                                 385\natis_ground_service                          230\natis_airline                                 139\natis_abbreviation                            130\natis_aircraft                                 70\natis_flight_time                              45\natis_quantity                                 41\natis_flight#atis_airfare                      19\natis_city                                     18\natis_distance                                 17\natis_airport                                  17\natis_ground_fare                              15\natis_capacity                                 15\natis_flight_no                                12\natis_meal                                      6\natis_restriction                               5\natis_airline#atis_flight_no                    2\natis_aircraft#atis_flight#atis_flight_no       1\natis_cheapest                                  1\natis_ground_service#atis_ground_fare           1\nName: 0, dtype: int64"
     },
     "execution_count": 44,
     "metadata": {},
     "output_type": "execute_result"
    }
   ],
   "source": [
    "train[0].value_counts()"
   ],
   "metadata": {
    "collapsed": false,
    "pycharm": {
     "name": "#%%\n"
    }
   }
  },
  {
   "cell_type": "code",
   "execution_count": 13,
   "outputs": [],
   "source": [
    "df = pd.read_csv('data/new_data/train/seq.in',names=['text'])\n",
    "df2 = pd.read_csv('data/new_data/train/seq.out',names=['entity'])\n",
    "df3 = pd.read_csv('data/new_data/train/label',names=['intent'])"
   ],
   "metadata": {
    "collapsed": false,
    "pycharm": {
     "name": "#%%\n"
    }
   }
  },
  {
   "cell_type": "code",
   "execution_count": 19,
   "outputs": [
    {
     "data": {
      "text/plain": "이동도움요구    1428\n자세변경요구    1391\n궁금함       1390\n신체불편호소    1390\n마음상태호소    1390\n수면문제호소    1390\n음식불편호소    1390\n위생활동요구    1390\n환경불편호소    1390\n기타활동요구    1390\n부정         902\n만남인사       900\n작별인사       900\n긍정         900\n욕구표출       900\nName: intent, dtype: int64"
     },
     "execution_count": 19,
     "metadata": {},
     "output_type": "execute_result"
    }
   ],
   "source": [
    "pd.concat([df, df2,df3],axis=1)['intent'].value_counts()"
   ],
   "metadata": {
    "collapsed": false,
    "pycharm": {
     "name": "#%%\n"
    }
   }
  },
  {
   "cell_type": "code",
   "execution_count": 25,
   "outputs": [],
   "source": [
    "def edit(input_path, output_path):\n",
    "    text_file = os.path.join(input_path, 'seq.in')\n",
    "    entity_file = os.path.join(input_path,'seq.out')\n",
    "    intent_file = os.path.join(input_path, 'label')\n",
    "\n",
    "    text = pd.read_csv(text_file, names=['text'])\n",
    "    entity = pd.read_csv(entity_file, names=['entity'])\n",
    "    intent = pd.read_csv(intent_file, names=['intent'])\n",
    "\n",
    "    df = pd.concat([text, entity, intent], axis=1)\n",
    "\n",
    "    LABEL_DICT ={\n",
    "        '작별인사': '인사',\n",
    "        '만남인사': '인사',\n",
    "        '음식불편호소': '환경불편호소',\n",
    "        '수면문제호소': '환경불편호소',\n",
    "        '기타활동요구': '활동요구',\n",
    "        '위생활동요구': '활동요구',\n",
    "        '이동도움요구': '활동요구',\n",
    "        '자세변경요구': '활동요구',\n",
    "\n",
    "    }\n",
    "\n",
    "    df['intent'] = df['intent'].replace(LABEL_DICT)\n",
    "    df = df[\n",
    "       (df['intent']=='활동요구')|\n",
    "       (df['intent']=='환경불편호소')|\n",
    "       (df['intent']=='신체불편호소')|\n",
    "       (df['intent']=='궁금함')|\n",
    "       (df['intent']=='마음상태호소')|\n",
    "       (df['intent']=='욕구표출')|\n",
    "       (df['intent']=='인사')\n",
    "    ]\n",
    "\n",
    "    df.reset_index(drop=True, inplace=True)\n",
    "    save_text_path = os.path.join(output_path,'seq.in')\n",
    "    save_entity_path = os.path.join(output_path,'seq.out')\n",
    "    save_intent_path = os.path.join(output_path,'label')\n",
    "\n",
    "    df['intent'].to_csv(save_intent_path, sep='\\t', header=False, index=False)\n",
    "    df['entity'].to_csv(save_entity_path, sep='\\t', header=False, index=False)\n",
    "    df['text'].to_csv(save_text_path, sep='\\t', header=False, index=False)"
   ],
   "metadata": {
    "collapsed": false,
    "pycharm": {
     "name": "#%%\n"
    }
   }
  },
  {
   "cell_type": "code",
   "execution_count": 26,
   "outputs": [],
   "source": [
    "edit('data/new_data/train','data/intent_7_data/train')\n",
    "edit('data/new_data/test','data/intent_7_data/test')\n",
    "edit('data/new_data/dev','data/intent_7_data/dev')"
   ],
   "metadata": {
    "collapsed": false,
    "pycharm": {
     "name": "#%%\n"
    }
   }
  },
  {
   "cell_type": "code",
   "execution_count": 27,
   "outputs": [],
   "source": [
    "df=pd.read_csv('./data/intent_7_data/train/label')"
   ],
   "metadata": {
    "collapsed": false,
    "pycharm": {
     "name": "#%%\n"
    }
   }
  },
  {
   "cell_type": "code",
   "execution_count": 29,
   "outputs": [
    {
     "data": {
      "text/plain": "활동요구      5599\n환경불편호소    4170\n인사        1800\n신체불편호소    1390\n마음상태호소    1390\n궁금함       1389\n욕구표출       900\nName: 궁금함, dtype: int64"
     },
     "execution_count": 29,
     "metadata": {},
     "output_type": "execute_result"
    }
   ],
   "source": [
    "df['궁금함'].value_counts()"
   ],
   "metadata": {
    "collapsed": false,
    "pycharm": {
     "name": "#%%\n"
    }
   }
  },
  {
   "cell_type": "code",
   "execution_count": 125,
   "outputs": [],
   "source": [
    "import pandas as pd"
   ],
   "metadata": {
    "collapsed": false,
    "pycharm": {
     "name": "#%%\n"
    }
   }
  },
  {
   "cell_type": "code",
   "execution_count": 138,
   "outputs": [],
   "source": [
    "ex = pd.read_excel('D:/감성대화/Training/감성대화말뭉치(최종데이터)_Training.xlsx')"
   ],
   "metadata": {
    "collapsed": false,
    "pycharm": {
     "name": "#%%\n"
    }
   }
  },
  {
   "cell_type": "code",
   "execution_count": 139,
   "outputs": [],
   "source": [
    "ex.rename(columns={'사람문장1':'text'},inplace=True)"
   ],
   "metadata": {
    "collapsed": false,
    "pycharm": {
     "name": "#%%\n"
    }
   }
  },
  {
   "cell_type": "code",
   "execution_count": 140,
   "outputs": [],
   "source": [
    "ex['intent'] = '마음상태호소'\n",
    "ex['entity'] = ex['text']"
   ],
   "metadata": {
    "collapsed": false,
    "pycharm": {
     "name": "#%%\n"
    }
   }
  },
  {
   "cell_type": "code",
   "execution_count": 141,
   "outputs": [],
   "source": [
    "ex = ex[['text','intent','entity']]"
   ],
   "metadata": {
    "collapsed": false,
    "pycharm": {
     "name": "#%%\n"
    }
   }
  },
  {
   "cell_type": "code",
   "execution_count": 146,
   "outputs": [],
   "source": [
    "ex = ex[:7000]"
   ],
   "metadata": {
    "collapsed": false,
    "pycharm": {
     "name": "#%%\n"
    }
   }
  },
  {
   "cell_type": "code",
   "execution_count": 170,
   "outputs": [],
   "source": [
    "text = pd.read_csv('data/12_10_data/test/seq.in', sep='\\t', header=None)\n",
    "text.rename(columns={0:'text'}, inplace=True)\n",
    "intent = pd.read_csv('data/12_10_data/test/label', sep='\\t', header=None)\n",
    "intent.rename(columns={0:'intent'}, inplace=True)\n",
    "entity = pd.read_csv('data/12_10_data/test/seq.out', sep='\\t', header=None)\n",
    "entity.rename(columns={0:'entity'}, inplace=True)\n"
   ],
   "metadata": {
    "collapsed": false,
    "pycharm": {
     "name": "#%%\n"
    }
   }
  },
  {
   "cell_type": "code",
   "execution_count": 170,
   "outputs": [],
   "source": [],
   "metadata": {
    "collapsed": false,
    "pycharm": {
     "name": "#%%\n"
    }
   }
  },
  {
   "cell_type": "code",
   "execution_count": 171,
   "outputs": [],
   "source": [
    "all = pd.concat([text, intent, entity], axis=1)"
   ],
   "metadata": {
    "collapsed": false,
    "pycharm": {
     "name": "#%%\n"
    }
   }
  },
  {
   "cell_type": "code",
   "execution_count": 175,
   "outputs": [
    {
     "data": {
      "text/plain": "265"
     },
     "execution_count": 175,
     "metadata": {},
     "output_type": "execute_result"
    }
   ],
   "source": [
    "len(all)"
   ],
   "metadata": {
    "collapsed": false,
    "pycharm": {
     "name": "#%%\n"
    }
   }
  },
  {
   "cell_type": "code",
   "execution_count": 173,
   "outputs": [],
   "source": [
    "all = all[(all['intent']!='활동요구') & (all['intent'] != '욕구표출')]"
   ],
   "metadata": {
    "collapsed": false,
    "pycharm": {
     "name": "#%%\n"
    }
   }
  },
  {
   "cell_type": "code",
   "execution_count": 174,
   "outputs": [],
   "source": [
    "all = all[(all['intent']!='환경불편호소')]"
   ],
   "metadata": {
    "collapsed": false,
    "pycharm": {
     "name": "#%%\n"
    }
   }
  },
  {
   "cell_type": "code",
   "execution_count": 176,
   "outputs": [
    {
     "data": {
      "text/plain": "                              text  intent  \\\n0     아이들이 내 병에 대해 뭐라고 숙덕이든 알 게 뭐야  마음상태호소   \n3                         정말 오랜만이야      인사   \n4                        어깨가 쿡쿡 쑤셔  신체불편호소   \n6      집 안을 다 찾아봐도 없는데, 우산이 어디 있을까     궁금함   \n8              미세먼지 때문에 불편하고 짜증 나네  마음상태호소   \n..                             ...     ...   \n420             날이 저물면 햇빛이 좀 덜해지겠지     궁금함   \n421              간만에 수다 떠니까 기분 좋았다      인사   \n422              우울해서 집 밖에 나가기 싫다고  마음상태호소   \n424  어차피 할 것도 없는데 지금 몇 시인지 알 게 뭐냐   마음상태호소   \n429                   점심 먹을 때가 되었나     궁금함   \n\n                                     entity  \n0         아이들이 내 [병:증상]에 대해 뭐라고 숙덕이든 알 게 뭐야  \n3                                  정말 오랜만이야  \n4                          [어깨:신체부위]가 쿡쿡 쑤셔  \n6         [집:장소] 안을 다 찾아봐도 없는데, 우산이 어디 있을까?  \n8                  [미세먼지:날씨] 때문에 불편하고 짜증 나네  \n..                                      ...  \n420                날이 저물면 [햇빛:날씨]이 좀 덜해지겠지?  \n421                       간만에 수다 떠니까 기분 좋았다  \n422                  우울해서 [집:장소] 밖에 나가기 싫다고  \n424  어차피 할 것도 없는데 [지금:시간] [몇 시:시간]인지 알 게 뭐냐  \n429                      [점심:음식] 먹을 때가 되었나?  \n\n[265 rows x 3 columns]",
      "text/html": "<div>\n<style scoped>\n    .dataframe tbody tr th:only-of-type {\n        vertical-align: middle;\n    }\n\n    .dataframe tbody tr th {\n        vertical-align: top;\n    }\n\n    .dataframe thead th {\n        text-align: right;\n    }\n</style>\n<table border=\"1\" class=\"dataframe\">\n  <thead>\n    <tr style=\"text-align: right;\">\n      <th></th>\n      <th>text</th>\n      <th>intent</th>\n      <th>entity</th>\n    </tr>\n  </thead>\n  <tbody>\n    <tr>\n      <th>0</th>\n      <td>아이들이 내 병에 대해 뭐라고 숙덕이든 알 게 뭐야</td>\n      <td>마음상태호소</td>\n      <td>아이들이 내 [병:증상]에 대해 뭐라고 숙덕이든 알 게 뭐야</td>\n    </tr>\n    <tr>\n      <th>3</th>\n      <td>정말 오랜만이야</td>\n      <td>인사</td>\n      <td>정말 오랜만이야</td>\n    </tr>\n    <tr>\n      <th>4</th>\n      <td>어깨가 쿡쿡 쑤셔</td>\n      <td>신체불편호소</td>\n      <td>[어깨:신체부위]가 쿡쿡 쑤셔</td>\n    </tr>\n    <tr>\n      <th>6</th>\n      <td>집 안을 다 찾아봐도 없는데, 우산이 어디 있을까</td>\n      <td>궁금함</td>\n      <td>[집:장소] 안을 다 찾아봐도 없는데, 우산이 어디 있을까?</td>\n    </tr>\n    <tr>\n      <th>8</th>\n      <td>미세먼지 때문에 불편하고 짜증 나네</td>\n      <td>마음상태호소</td>\n      <td>[미세먼지:날씨] 때문에 불편하고 짜증 나네</td>\n    </tr>\n    <tr>\n      <th>...</th>\n      <td>...</td>\n      <td>...</td>\n      <td>...</td>\n    </tr>\n    <tr>\n      <th>420</th>\n      <td>날이 저물면 햇빛이 좀 덜해지겠지</td>\n      <td>궁금함</td>\n      <td>날이 저물면 [햇빛:날씨]이 좀 덜해지겠지?</td>\n    </tr>\n    <tr>\n      <th>421</th>\n      <td>간만에 수다 떠니까 기분 좋았다</td>\n      <td>인사</td>\n      <td>간만에 수다 떠니까 기분 좋았다</td>\n    </tr>\n    <tr>\n      <th>422</th>\n      <td>우울해서 집 밖에 나가기 싫다고</td>\n      <td>마음상태호소</td>\n      <td>우울해서 [집:장소] 밖에 나가기 싫다고</td>\n    </tr>\n    <tr>\n      <th>424</th>\n      <td>어차피 할 것도 없는데 지금 몇 시인지 알 게 뭐냐</td>\n      <td>마음상태호소</td>\n      <td>어차피 할 것도 없는데 [지금:시간] [몇 시:시간]인지 알 게 뭐냐</td>\n    </tr>\n    <tr>\n      <th>429</th>\n      <td>점심 먹을 때가 되었나</td>\n      <td>궁금함</td>\n      <td>[점심:음식] 먹을 때가 되었나?</td>\n    </tr>\n  </tbody>\n</table>\n<p>265 rows × 3 columns</p>\n</div>"
     },
     "execution_count": 176,
     "metadata": {},
     "output_type": "execute_result"
    }
   ],
   "source": [
    "all"
   ],
   "metadata": {
    "collapsed": false,
    "pycharm": {
     "name": "#%%\n"
    }
   }
  },
  {
   "cell_type": "code",
   "execution_count": 157,
   "outputs": [],
   "source": [
    "add = pd.concat([all, ex])"
   ],
   "metadata": {
    "collapsed": false,
    "pycharm": {
     "name": "#%%\n"
    }
   }
  },
  {
   "cell_type": "code",
   "execution_count": 179,
   "outputs": [
    {
     "data": {
      "text/plain": "인사        100\n마음상태호소     55\n신체불편호소     55\n궁금함        55\nName: intent, dtype: int64"
     },
     "execution_count": 179,
     "metadata": {},
     "output_type": "execute_result"
    }
   ],
   "source": [
    "all['intent'].value_counts()"
   ],
   "metadata": {
    "collapsed": false,
    "pycharm": {
     "name": "#%%\n"
    }
   }
  },
  {
   "cell_type": "code",
   "execution_count": 161,
   "outputs": [
    {
     "data": {
      "text/plain": "0"
     },
     "execution_count": 161,
     "metadata": {},
     "output_type": "execute_result"
    }
   ],
   "source": [
    "add['entity'].isnull().sum()"
   ],
   "metadata": {
    "collapsed": false,
    "pycharm": {
     "name": "#%%\n"
    }
   }
  },
  {
   "cell_type": "code",
   "execution_count": 177,
   "outputs": [],
   "source": [
    "all['text'].to_csv('data/12_10_data/seq.in', sep='\\t', index=False, header=False)\n",
    "all['entity'].to_csv('data/12_10_data/seq.out', sep='\\t', index=False, header=False)\n",
    "all['intent'].to_csv('data/12_10_data/label', sep='\\t', index=False, header=False)\n"
   ],
   "metadata": {
    "collapsed": false,
    "pycharm": {
     "name": "#%%\n"
    }
   }
  }
 ],
 "metadata": {
  "kernelspec": {
   "display_name": "Python 3",
   "language": "python",
   "name": "python3"
  },
  "language_info": {
   "codemirror_mode": {
    "name": "ipython",
    "version": 2
   },
   "file_extension": ".py",
   "mimetype": "text/x-python",
   "name": "python",
   "nbconvert_exporter": "python",
   "pygments_lexer": "ipython2",
   "version": "2.7.6"
  }
 },
 "nbformat": 4,
 "nbformat_minor": 0
}